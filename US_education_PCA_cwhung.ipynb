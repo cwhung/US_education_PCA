{
 "cells": [
  {
   "cell_type": "code",
   "execution_count": 1,
   "metadata": {},
   "outputs": [],
   "source": [
    "import pandas as pd\n",
    "import numpy as np\n",
    "from sqlalchemy import create_engine\n",
    "import warnings\n",
    "import matplotlib.pyplot as plt\n",
    "import seaborn as sns\n",
    "\n",
    "warnings.filterwarnings('ignore')\n",
    "pd.set_option('display.max_rows', 1000)"
   ]
  },
  {
   "cell_type": "code",
   "execution_count": 2,
   "metadata": {},
   "outputs": [],
   "source": [
    "postgres_user = 'dsbc_student'\n",
    "postgres_pw = '7*.8G9QH21'\n",
    "postgres_host = '142.93.121.174'\n",
    "postgres_port = '5432'\n",
    "postgres_db = 'useducation'\n",
    "\n",
    "engine = create_engine('postgresql://{}:{}@{}:{}/{}'.format(postgres_user, postgres_pw, postgres_host, postgres_port, postgres_db))\n",
    "\n",
    "useducation_df = pd.read_sql_query('select * from useducation',con=engine)\n",
    "\n",
    "engine.dispose()\n"
   ]
  },
  {
   "cell_type": "code",
   "execution_count": 3,
   "metadata": {},
   "outputs": [],
   "source": [
    "# zero revenue in \"STATE_REVENUE\" is missing data\n",
    "useducation_df=useducation_df.replace(0, np.nan)\n",
    "# Replace 'VI', 'U.S._VIRGIN_ISLANDS', as 'VIRGIN_ISLAND'\n",
    "useducation_df=useducation_df.replace({'VI':'VIRGIN_ISLANDS', 'U.S._VIRGIN_ISLANDS':'VIRGIN_ISLANDS', \\\n",
    "                                       'AS': 'AMERICAN_SAMOA', 'BI':'BUREAU_OF_INDIAN_AFFAIRS', \\\n",
    "                                       'BUREAU_OF_INDIAN_EDUCATIO':'BUREAU_OF_INDIAN_AFFAIRS', \\\n",
    "                                       'BUREAU_OF_INDIAN_EDUCATION': 'BUREAU_OF_INDIAN_AFFAIRS', \\\n",
    "                                       'BIE':'BUREAU_OF_INDIAN_AFFAIRS', \\\n",
    "                                       'DD': 'DEPARTMENT_OF_DEFENSE', \\\n",
    "                                       'DEPARTMENT_OF_DEFENSE_EDUCATION_ACTIVITY':'DEPARTMENT_OF_DEFENSE', \\\n",
    "                                       '^DOD.*$':'DEPARTMENT_OF_DEFENSE', \\\n",
    "                                       'GU':'GUAM', 'NORTHERN_MARIANAS':'NORTHERN_MARIANA_ISLANDS', \\\n",
    "                                       'PR':'PUERTO_RICO', 'COMMONWEALTH_OF_MARIANAS':'MARIANAS'})\n",
    "\n",
    "useducation_df.loc[useducation_df['STATE'].str.contains('DOD'),'STATE']='DEPARTMENT_OF_DEFENSE'\n"
   ]
  },
  {
   "cell_type": "code",
   "execution_count": 4,
   "metadata": {},
   "outputs": [],
   "source": [
    "# # Group by state\n",
    "# useducation2_df = useducation_df.drop(columns = 'YEAR').groupby('STATE').mean()\n",
    "\n",
    "# Replace by state mean\n",
    "\n",
    "column_list = ['ENROLL','TOTAL_REVENUE','FEDERAL_REVENUE','STATE_REVENUE','LOCAL_REVENUE','TOTAL_EXPENDITURE', \\\n",
    "               'INSTRUCTION_EXPENDITURE','SUPPORT_SERVICES_EXPENDITURE','OTHER_EXPENDITURE', \\\n",
    "               'CAPITAL_OUTLAY_EXPENDITURE','GRADES_PK_G','GRADES_KG_G','GRADES_4_G','GRADES_8_G', 'GRADES_12_G', \\\n",
    "               'GRADES_1_8_G','GRADES_9_12_G','GRADES_ALL_G', 'AVG_MATH_4_SCORE', 'AVG_MATH_8_SCORE', \\\n",
    "               'AVG_READING_4_SCORE', 'AVG_READING_8_SCORE']\n",
    "\n",
    "\n",
    "# useducation2_df[column_list]= useducation2_df.groupby(\"STATE\").transform(lambda x: x.fillna(x.mean()))[column_list]\n",
    "\n",
    "useducation2_df=useducation_df.copy()\n",
    "\n",
    "for column in column_list:\n",
    "    useducation2_df.loc[:, column].fillna(useducation2_df[column].mean(), inplace=True)"
   ]
  },
  {
   "cell_type": "code",
   "execution_count": 5,
   "metadata": {
    "scrolled": true
   },
   "outputs": [
    {
     "name": "stdout",
     "output_type": "stream",
     "text": [
      "<class 'pandas.core.frame.DataFrame'>\n",
      "RangeIndex: 1492 entries, 0 to 1491\n",
      "Data columns (total 25 columns):\n",
      "PRIMARY_KEY                     1492 non-null object\n",
      "STATE                           1492 non-null object\n",
      "YEAR                            1492 non-null int64\n",
      "ENROLL                          1492 non-null float64\n",
      "TOTAL_REVENUE                   1492 non-null float64\n",
      "FEDERAL_REVENUE                 1492 non-null float64\n",
      "STATE_REVENUE                   1492 non-null float64\n",
      "LOCAL_REVENUE                   1492 non-null float64\n",
      "TOTAL_EXPENDITURE               1492 non-null float64\n",
      "INSTRUCTION_EXPENDITURE         1492 non-null float64\n",
      "SUPPORT_SERVICES_EXPENDITURE    1492 non-null float64\n",
      "OTHER_EXPENDITURE               1492 non-null float64\n",
      "CAPITAL_OUTLAY_EXPENDITURE      1492 non-null float64\n",
      "GRADES_PK_G                     1492 non-null float64\n",
      "GRADES_KG_G                     1492 non-null float64\n",
      "GRADES_4_G                      1492 non-null float64\n",
      "GRADES_8_G                      1492 non-null float64\n",
      "GRADES_12_G                     1492 non-null float64\n",
      "GRADES_1_8_G                    1492 non-null float64\n",
      "GRADES_9_12_G                   1492 non-null float64\n",
      "GRADES_ALL_G                    1492 non-null float64\n",
      "AVG_MATH_4_SCORE                1492 non-null float64\n",
      "AVG_MATH_8_SCORE                1492 non-null float64\n",
      "AVG_READING_4_SCORE             1492 non-null float64\n",
      "AVG_READING_8_SCORE             1492 non-null float64\n",
      "dtypes: float64(22), int64(1), object(2)\n",
      "memory usage: 291.5+ KB\n"
     ]
    }
   ],
   "source": [
    "useducation2_df.info()"
   ]
  },
  {
   "cell_type": "markdown",
   "metadata": {},
   "source": [
    "** TASK**\n",
    "1. Create a new score variable from the weighted averages of all score variables in the datasets. Notice that the number of students in the 4th grade isn't the same as the number of students in the 8th grade. So, you should appropriately weigh the scores!.\n",
    "2. What are the correlations between this newly created score variable and the expenditure types? Which 1 of the expenditure types is more correlated than the others?\n",
    "3. Now, apply PCA to the 4 expenditure types. How much of the total variance is explained by the 1st component?\n",
    "4. What is the correlation between the overall score variable and the 1st principal component?\n",
    "5. If you were to choose the best variables for your model, would you prefer using the 1st principal component instead of the expenditure variables? Why?"
   ]
  },
  {
   "cell_type": "markdown",
   "metadata": {},
   "source": [
    "# Create a new score variable from the weighted averages of all score variables in the datasets. Notice that the number of students in the 4th grade isn't the same as the number of students in the 8th grade. So, you should appropriately weigh the scores!."
   ]
  },
  {
   "cell_type": "code",
   "execution_count": 6,
   "metadata": {},
   "outputs": [],
   "source": [
    "# score weighted by student number\n",
    "useducation2_df['WEIGHTED_SCORE']=(useducation2_df.GRADES_4_G*0.5*(useducation2_df.AVG_MATH_4_SCORE+useducation2_df.AVG_READING_4_SCORE)+  \\\n",
    "                                   useducation2_df.GRADES_8_G*0.5*(useducation2_df.AVG_MATH_8_SCORE+useducation2_df.AVG_READING_8_SCORE))/ \\\n",
    "                                (useducation2_df.GRADES_4_G+useducation2_df.GRADES_8_G)\n"
   ]
  },
  {
   "cell_type": "markdown",
   "metadata": {},
   "source": [
    "# What are the correlations between this newly created score variable and the expenditure types? Which 1 of the expenditure types is more correlated than the others?"
   ]
  },
  {
   "cell_type": "code",
   "execution_count": 7,
   "metadata": {},
   "outputs": [],
   "source": [
    "education_exp = useducation2_df.loc[:, ['TOTAL_EXPENDITURE', 'INSTRUCTION_EXPENDITURE', 'SUPPORT_SERVICES_EXPENDITURE', 'OTHER_EXPENDITURE','CAPITAL_OUTLAY_EXPENDITURE', 'WEIGHTED_SCORE']]"
   ]
  },
  {
   "cell_type": "code",
   "execution_count": 8,
   "metadata": {},
   "outputs": [
    {
     "data": {
      "text/html": [
       "<div>\n",
       "<style scoped>\n",
       "    .dataframe tbody tr th:only-of-type {\n",
       "        vertical-align: middle;\n",
       "    }\n",
       "\n",
       "    .dataframe tbody tr th {\n",
       "        vertical-align: top;\n",
       "    }\n",
       "\n",
       "    .dataframe thead th {\n",
       "        text-align: right;\n",
       "    }\n",
       "</style>\n",
       "<table border=\"1\" class=\"dataframe\">\n",
       "  <thead>\n",
       "    <tr style=\"text-align: right;\">\n",
       "      <th></th>\n",
       "      <th>TOTAL_EXPENDITURE</th>\n",
       "      <th>INSTRUCTION_EXPENDITURE</th>\n",
       "      <th>SUPPORT_SERVICES_EXPENDITURE</th>\n",
       "      <th>OTHER_EXPENDITURE</th>\n",
       "      <th>CAPITAL_OUTLAY_EXPENDITURE</th>\n",
       "      <th>WEIGHTED_SCORE</th>\n",
       "    </tr>\n",
       "  </thead>\n",
       "  <tbody>\n",
       "    <tr>\n",
       "      <th>TOTAL_EXPENDITURE</th>\n",
       "      <td>1.000000</td>\n",
       "      <td>0.991347</td>\n",
       "      <td>0.993314</td>\n",
       "      <td>0.939463</td>\n",
       "      <td>0.932447</td>\n",
       "      <td>0.069725</td>\n",
       "    </tr>\n",
       "    <tr>\n",
       "      <th>INSTRUCTION_EXPENDITURE</th>\n",
       "      <td>0.991347</td>\n",
       "      <td>1.000000</td>\n",
       "      <td>0.976889</td>\n",
       "      <td>0.902964</td>\n",
       "      <td>0.896103</td>\n",
       "      <td>0.075448</td>\n",
       "    </tr>\n",
       "    <tr>\n",
       "      <th>SUPPORT_SERVICES_EXPENDITURE</th>\n",
       "      <td>0.993314</td>\n",
       "      <td>0.976889</td>\n",
       "      <td>1.000000</td>\n",
       "      <td>0.945724</td>\n",
       "      <td>0.917782</td>\n",
       "      <td>0.072963</td>\n",
       "    </tr>\n",
       "    <tr>\n",
       "      <th>OTHER_EXPENDITURE</th>\n",
       "      <td>0.939463</td>\n",
       "      <td>0.902964</td>\n",
       "      <td>0.945724</td>\n",
       "      <td>1.000000</td>\n",
       "      <td>0.916854</td>\n",
       "      <td>0.010777</td>\n",
       "    </tr>\n",
       "    <tr>\n",
       "      <th>CAPITAL_OUTLAY_EXPENDITURE</th>\n",
       "      <td>0.932447</td>\n",
       "      <td>0.896103</td>\n",
       "      <td>0.917782</td>\n",
       "      <td>0.916854</td>\n",
       "      <td>1.000000</td>\n",
       "      <td>0.025506</td>\n",
       "    </tr>\n",
       "    <tr>\n",
       "      <th>WEIGHTED_SCORE</th>\n",
       "      <td>0.069725</td>\n",
       "      <td>0.075448</td>\n",
       "      <td>0.072963</td>\n",
       "      <td>0.010777</td>\n",
       "      <td>0.025506</td>\n",
       "      <td>1.000000</td>\n",
       "    </tr>\n",
       "  </tbody>\n",
       "</table>\n",
       "</div>"
      ],
      "text/plain": [
       "                              TOTAL_EXPENDITURE  INSTRUCTION_EXPENDITURE  \\\n",
       "TOTAL_EXPENDITURE                      1.000000                 0.991347   \n",
       "INSTRUCTION_EXPENDITURE                0.991347                 1.000000   \n",
       "SUPPORT_SERVICES_EXPENDITURE           0.993314                 0.976889   \n",
       "OTHER_EXPENDITURE                      0.939463                 0.902964   \n",
       "CAPITAL_OUTLAY_EXPENDITURE             0.932447                 0.896103   \n",
       "WEIGHTED_SCORE                         0.069725                 0.075448   \n",
       "\n",
       "                              SUPPORT_SERVICES_EXPENDITURE  OTHER_EXPENDITURE  \\\n",
       "TOTAL_EXPENDITURE                                 0.993314           0.939463   \n",
       "INSTRUCTION_EXPENDITURE                           0.976889           0.902964   \n",
       "SUPPORT_SERVICES_EXPENDITURE                      1.000000           0.945724   \n",
       "OTHER_EXPENDITURE                                 0.945724           1.000000   \n",
       "CAPITAL_OUTLAY_EXPENDITURE                        0.917782           0.916854   \n",
       "WEIGHTED_SCORE                                    0.072963           0.010777   \n",
       "\n",
       "                              CAPITAL_OUTLAY_EXPENDITURE  WEIGHTED_SCORE  \n",
       "TOTAL_EXPENDITURE                               0.932447        0.069725  \n",
       "INSTRUCTION_EXPENDITURE                         0.896103        0.075448  \n",
       "SUPPORT_SERVICES_EXPENDITURE                    0.917782        0.072963  \n",
       "OTHER_EXPENDITURE                               0.916854        0.010777  \n",
       "CAPITAL_OUTLAY_EXPENDITURE                      1.000000        0.025506  \n",
       "WEIGHTED_SCORE                                  0.025506        1.000000  "
      ]
     },
     "execution_count": 8,
     "metadata": {},
     "output_type": "execute_result"
    }
   ],
   "source": [
    "education_exp.corr()"
   ]
  },
  {
   "cell_type": "markdown",
   "metadata": {},
   "source": [
    "INSTRUCTION_EXPENDITURE is more correlated to WEIGHTED_SCORE.  However, corr = 0.075 is barely correlated. "
   ]
  },
  {
   "cell_type": "markdown",
   "metadata": {},
   "source": [
    "# Now, apply PCA to the 4 expenditure types. How much of the total variance is explained by the 1st component?"
   ]
  },
  {
   "cell_type": "code",
   "execution_count": 9,
   "metadata": {},
   "outputs": [
    {
     "name": "stdout",
     "output_type": "stream",
     "text": [
      "The percentage of total variance in the dataset explained by each component from Sklearn PCA.\n",
      " [0.79496584]\n"
     ]
    }
   ],
   "source": [
    "from sklearn.decomposition import PCA\n",
    "from sklearn.preprocessing import StandardScaler\n",
    "\n",
    "# build the matrix\n",
    "X=education_exp[['TOTAL_EXPENDITURE', 'INSTRUCTION_EXPENDITURE', 'SUPPORT_SERVICES_EXPENDITURE', 'OTHER_EXPENDITURE','CAPITAL_OUTLAY_EXPENDITURE', 'WEIGHTED_SCORE']]\n",
    "Y=education_exp['WEIGHTED_SCORE']\n",
    "\n",
    "# Standardize X\n",
    "X = StandardScaler().fit_transform(X)\n",
    "sklearn_pca = PCA(n_components=1)\n",
    "education_exp['PCA_1'] = sklearn_pca.fit_transform(X)\n",
    "\n",
    "print(\n",
    "    'The percentage of total variance in the dataset explained by each',\n",
    "    'component from Sklearn PCA.\\n',\n",
    "    sklearn_pca.explained_variance_ratio_\n",
    ")\n"
   ]
  },
  {
   "cell_type": "markdown",
   "metadata": {},
   "source": [
    "79% of total variance is explained by the first component.  "
   ]
  },
  {
   "cell_type": "markdown",
   "metadata": {},
   "source": [
    "# What is the correlation between the overall score variable and the 1st principal component?"
   ]
  },
  {
   "cell_type": "code",
   "execution_count": 10,
   "metadata": {
    "scrolled": true
   },
   "outputs": [
    {
     "data": {
      "text/html": [
       "<div>\n",
       "<style scoped>\n",
       "    .dataframe tbody tr th:only-of-type {\n",
       "        vertical-align: middle;\n",
       "    }\n",
       "\n",
       "    .dataframe tbody tr th {\n",
       "        vertical-align: top;\n",
       "    }\n",
       "\n",
       "    .dataframe thead th {\n",
       "        text-align: right;\n",
       "    }\n",
       "</style>\n",
       "<table border=\"1\" class=\"dataframe\">\n",
       "  <thead>\n",
       "    <tr style=\"text-align: right;\">\n",
       "      <th></th>\n",
       "      <th>TOTAL_EXPENDITURE</th>\n",
       "      <th>INSTRUCTION_EXPENDITURE</th>\n",
       "      <th>SUPPORT_SERVICES_EXPENDITURE</th>\n",
       "      <th>OTHER_EXPENDITURE</th>\n",
       "      <th>CAPITAL_OUTLAY_EXPENDITURE</th>\n",
       "      <th>WEIGHTED_SCORE</th>\n",
       "      <th>PCA_1</th>\n",
       "    </tr>\n",
       "  </thead>\n",
       "  <tbody>\n",
       "    <tr>\n",
       "      <th>TOTAL_EXPENDITURE</th>\n",
       "      <td>1.000000</td>\n",
       "      <td>0.991347</td>\n",
       "      <td>0.993314</td>\n",
       "      <td>0.939463</td>\n",
       "      <td>0.932447</td>\n",
       "      <td>0.069725</td>\n",
       "      <td>0.995313</td>\n",
       "    </tr>\n",
       "    <tr>\n",
       "      <th>INSTRUCTION_EXPENDITURE</th>\n",
       "      <td>0.991347</td>\n",
       "      <td>1.000000</td>\n",
       "      <td>0.976889</td>\n",
       "      <td>0.902964</td>\n",
       "      <td>0.896103</td>\n",
       "      <td>0.075448</td>\n",
       "      <td>0.977308</td>\n",
       "    </tr>\n",
       "    <tr>\n",
       "      <th>SUPPORT_SERVICES_EXPENDITURE</th>\n",
       "      <td>0.993314</td>\n",
       "      <td>0.976889</td>\n",
       "      <td>1.000000</td>\n",
       "      <td>0.945724</td>\n",
       "      <td>0.917782</td>\n",
       "      <td>0.072963</td>\n",
       "      <td>0.990719</td>\n",
       "    </tr>\n",
       "    <tr>\n",
       "      <th>OTHER_EXPENDITURE</th>\n",
       "      <td>0.939463</td>\n",
       "      <td>0.902964</td>\n",
       "      <td>0.945724</td>\n",
       "      <td>1.000000</td>\n",
       "      <td>0.916854</td>\n",
       "      <td>0.010777</td>\n",
       "      <td>0.962968</td>\n",
       "    </tr>\n",
       "    <tr>\n",
       "      <th>CAPITAL_OUTLAY_EXPENDITURE</th>\n",
       "      <td>0.932447</td>\n",
       "      <td>0.896103</td>\n",
       "      <td>0.917782</td>\n",
       "      <td>0.916854</td>\n",
       "      <td>1.000000</td>\n",
       "      <td>0.025506</td>\n",
       "      <td>0.954349</td>\n",
       "    </tr>\n",
       "    <tr>\n",
       "      <th>WEIGHTED_SCORE</th>\n",
       "      <td>0.069725</td>\n",
       "      <td>0.075448</td>\n",
       "      <td>0.072963</td>\n",
       "      <td>0.010777</td>\n",
       "      <td>0.025506</td>\n",
       "      <td>1.000000</td>\n",
       "      <td>0.066354</td>\n",
       "    </tr>\n",
       "    <tr>\n",
       "      <th>PCA_1</th>\n",
       "      <td>0.995313</td>\n",
       "      <td>0.977308</td>\n",
       "      <td>0.990719</td>\n",
       "      <td>0.962968</td>\n",
       "      <td>0.954349</td>\n",
       "      <td>0.066354</td>\n",
       "      <td>1.000000</td>\n",
       "    </tr>\n",
       "  </tbody>\n",
       "</table>\n",
       "</div>"
      ],
      "text/plain": [
       "                              TOTAL_EXPENDITURE  INSTRUCTION_EXPENDITURE  \\\n",
       "TOTAL_EXPENDITURE                      1.000000                 0.991347   \n",
       "INSTRUCTION_EXPENDITURE                0.991347                 1.000000   \n",
       "SUPPORT_SERVICES_EXPENDITURE           0.993314                 0.976889   \n",
       "OTHER_EXPENDITURE                      0.939463                 0.902964   \n",
       "CAPITAL_OUTLAY_EXPENDITURE             0.932447                 0.896103   \n",
       "WEIGHTED_SCORE                         0.069725                 0.075448   \n",
       "PCA_1                                  0.995313                 0.977308   \n",
       "\n",
       "                              SUPPORT_SERVICES_EXPENDITURE  OTHER_EXPENDITURE  \\\n",
       "TOTAL_EXPENDITURE                                 0.993314           0.939463   \n",
       "INSTRUCTION_EXPENDITURE                           0.976889           0.902964   \n",
       "SUPPORT_SERVICES_EXPENDITURE                      1.000000           0.945724   \n",
       "OTHER_EXPENDITURE                                 0.945724           1.000000   \n",
       "CAPITAL_OUTLAY_EXPENDITURE                        0.917782           0.916854   \n",
       "WEIGHTED_SCORE                                    0.072963           0.010777   \n",
       "PCA_1                                             0.990719           0.962968   \n",
       "\n",
       "                              CAPITAL_OUTLAY_EXPENDITURE  WEIGHTED_SCORE  \\\n",
       "TOTAL_EXPENDITURE                               0.932447        0.069725   \n",
       "INSTRUCTION_EXPENDITURE                         0.896103        0.075448   \n",
       "SUPPORT_SERVICES_EXPENDITURE                    0.917782        0.072963   \n",
       "OTHER_EXPENDITURE                               0.916854        0.010777   \n",
       "CAPITAL_OUTLAY_EXPENDITURE                      1.000000        0.025506   \n",
       "WEIGHTED_SCORE                                  0.025506        1.000000   \n",
       "PCA_1                                           0.954349        0.066354   \n",
       "\n",
       "                                 PCA_1  \n",
       "TOTAL_EXPENDITURE             0.995313  \n",
       "INSTRUCTION_EXPENDITURE       0.977308  \n",
       "SUPPORT_SERVICES_EXPENDITURE  0.990719  \n",
       "OTHER_EXPENDITURE             0.962968  \n",
       "CAPITAL_OUTLAY_EXPENDITURE    0.954349  \n",
       "WEIGHTED_SCORE                0.066354  \n",
       "PCA_1                         1.000000  "
      ]
     },
     "execution_count": 10,
     "metadata": {},
     "output_type": "execute_result"
    }
   ],
   "source": [
    "education_exp.corr()"
   ]
  },
  {
   "cell_type": "markdown",
   "metadata": {},
   "source": [
    "The correlation between weighted score and the PCA_1 is 0.066, less than original 0.075."
   ]
  },
  {
   "cell_type": "markdown",
   "metadata": {},
   "source": [
    "# If you were to choose the best variables for your model, would you prefer using the 1st principal component instead of the expenditure variables? Why?"
   ]
  },
  {
   "cell_type": "markdown",
   "metadata": {},
   "source": [
    "We should choose INSTRUCTION_EXPENDITURE than the PCA_1 because the INSTRUCTION_EXPENDITURE is more correlated.  "
   ]
  }
 ],
 "metadata": {
  "kernelspec": {
   "display_name": "Python 3",
   "language": "python",
   "name": "python3"
  },
  "language_info": {
   "codemirror_mode": {
    "name": "ipython",
    "version": 3
   },
   "file_extension": ".py",
   "mimetype": "text/x-python",
   "name": "python",
   "nbconvert_exporter": "python",
   "pygments_lexer": "ipython3",
   "version": "3.7.3"
  },
  "toc": {
   "base_numbering": 1,
   "nav_menu": {},
   "number_sections": true,
   "sideBar": true,
   "skip_h1_title": false,
   "title_cell": "Table of Contents",
   "title_sidebar": "Contents",
   "toc_cell": false,
   "toc_position": {},
   "toc_section_display": true,
   "toc_window_display": false
  }
 },
 "nbformat": 4,
 "nbformat_minor": 2
}
